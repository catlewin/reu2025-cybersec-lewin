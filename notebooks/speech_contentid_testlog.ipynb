{
 "cells": [
  {
   "cell_type": "markdown",
   "id": "b17dc2d3",
   "metadata": {},
   "source": [
    "# Speech ContentID Test Log\n",
    "Cat Lewin – REU Week 3"
   ]
  },
  {
   "cell_type": "markdown",
   "id": "81905e8b",
   "metadata": {},
   "source": [
    "This notebook documents tests run on YouTube's Content ID system using edited audio-only versions of speech, podcast, and movie content. Each clip was uploaded and monitored for copyright claims."
   ]
  },
  {
   "cell_type": "markdown",
   "id": "455ccd21",
   "metadata": {},
   "source": [
    "| Clip Type | Clip Name                         | Claim? | Source                     | Notes                        |\n",
    "|-----------|-----------------------------------|--------|----------------------------|------------------------------|\n",
    "| Speech    | MLK Jr. – I Have a Dream          | Yes    | To the Left by DjeefSound | Likely false positive        |\n",
    "| Speech    | Greta Thunberg – How Dare You     | Yes    | Eines Tages by MUSA        | Speech sampled in music      |\n",
    "| Speech    | Barack Obama – A More Perfect Union | No   | –                          | Pure speech                  |\n",
    "| Speech    | JFK – Inaugural Address           | No     | –                          |                              |\n",
    "| Speech    | Wendy Suzuki TEDxTalk             | No     | –                          |                              |\n",
    "| Podcast   | Radiolab - Everybody's Got One    | No     | –                          |                              |\n",
    "| Podcast   | Joe Rogan #2312                   | No     | –                          |                              |\n",
    "| Movie     | Star Wars – “I am your father”    | No     | –                          |                              |\n",
    "| Movie     | How to Train Your Dragon          | No     | –                          |                              |\n",
    "| Movie     | The Dark Knight – Joker Monologue | Yes    | Intermezzo by UanmNess     | Background audio matched     |"
   ]
  },
  {
   "cell_type": "markdown",
   "id": "7b9cf9ff",
   "metadata": {},
   "source": [
    "- All videos were stripped of visuals and uploaded using iMovie.\n",
    "- Monitoring was conducted through YouTube Studio and claim notices were documented via screenshot.\n",
    "- All triggered claims were due to musical components or background noise — not speech alone."
   ]
  }
 ],
 "metadata": {},
 "nbformat": 4,
 "nbformat_minor": 5
}
