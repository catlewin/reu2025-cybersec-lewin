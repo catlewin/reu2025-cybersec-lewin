{
 "cells": [
  {
   "cell_type": "markdown",
   "id": "0c427450",
   "metadata": {},
   "source": [
    "# Invisible Watermark: Setup Plan and Goals\n",
    "Cat Lewin – REU Week 3"
   ]
  },
  {
   "cell_type": "markdown",
   "id": "3fa8049a",
   "metadata": {},
   "source": [
    "This notebook outlines the setup plan for reproducing and extending the Invisible Watermark framework (Zhang et al., 2019) as a baseline for testing adversarial robustness in watermark-based deepfake detection."
   ]
  },
  {
   "cell_type": "markdown",
   "id": "546ce697",
   "metadata": {},
   "source": [
    "### Reproduction Plan\n",
    "- Clone the GitHub repo: https://github.com/ShieldMnt/invisible-watermark\n",
    "- Set up Python environment\n",
    "- Run basic image watermarking example using CelebA faces"
   ]
  },
  {
   "cell_type": "markdown",
   "id": "61d902c4",
   "metadata": {},
   "source": [
    "### Planned Experiments\n",
    "- Apply watermark encoder to CelebA images\n",
    "- Perform FGSM/PGD adversarial attacks on watermarked images\n",
    "- Measure recovery success, SSIM, and visibility"
   ]
  },
  {
   "cell_type": "markdown",
   "id": "adf007c0",
   "metadata": {},
   "source": [
    "### Questions to Explore\n",
    "- How robust is the watermark under adversarial manipulation?\n",
    "- Is there a trade-off between invisibility and recoverability?"
   ]
  }
 ],
 "metadata": {},
 "nbformat": 4,
 "nbformat_minor": 5
}
